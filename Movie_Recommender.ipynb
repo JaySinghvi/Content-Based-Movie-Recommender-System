{
 "cells": [
  {
   "cell_type": "markdown",
   "metadata": {},
   "source": [
    "Movie Recommender System -- Content Based"
   ]
  },
  {
   "cell_type": "code",
   "execution_count": 1,
   "metadata": {},
   "outputs": [],
   "source": [
    "import pandas as pd\n",
    "import numpy as np"
   ]
  },
  {
   "cell_type": "code",
   "execution_count": 2,
   "metadata": {},
   "outputs": [],
   "source": [
    "movies = pd.read_csv(\"tmdb_5000_movies.csv\")\n",
    "credits = pd.read_csv(\"tmdb_5000_credits.csv\")"
   ]
  },
  {
   "cell_type": "code",
   "execution_count": 3,
   "metadata": {},
   "outputs": [],
   "source": [
    "movies = movies.merge(credits, on = \"title\")"
   ]
  },
  {
   "cell_type": "code",
   "execution_count": 4,
   "metadata": {},
   "outputs": [],
   "source": [
    "#preprocessing\n",
    "movies = movies[[\"id\", \"title\", \"overview\", \"genres\", \"keywords\", \"cast\", \"crew\"]]"
   ]
  },
  {
   "cell_type": "code",
   "execution_count": 5,
   "metadata": {},
   "outputs": [
    {
     "data": {
      "text/plain": [
       "id          0\n",
       "title       0\n",
       "overview    3\n",
       "genres      0\n",
       "keywords    0\n",
       "cast        0\n",
       "crew        0\n",
       "dtype: int64"
      ]
     },
     "execution_count": 5,
     "metadata": {},
     "output_type": "execute_result"
    }
   ],
   "source": [
    "movies.isnull().sum()"
   ]
  },
  {
   "cell_type": "code",
   "execution_count": 6,
   "metadata": {},
   "outputs": [],
   "source": [
    "movies.dropna(inplace = True)"
   ]
  },
  {
   "cell_type": "code",
   "execution_count": 7,
   "metadata": {},
   "outputs": [
    {
     "data": {
      "text/plain": [
       "0"
      ]
     },
     "execution_count": 7,
     "metadata": {},
     "output_type": "execute_result"
    }
   ],
   "source": [
    "movies.duplicated().sum()"
   ]
  },
  {
   "cell_type": "code",
   "execution_count": 8,
   "metadata": {},
   "outputs": [],
   "source": [
    "import ast"
   ]
  },
  {
   "cell_type": "code",
   "execution_count": 9,
   "metadata": {},
   "outputs": [],
   "source": [
    "#since genres columns is list of dictionaries so we need to convert it into a list using a helper function\n",
    "def convert(obj):\n",
    "    l =[]\n",
    "    for i in ast.literal_eval(obj): #ast.literal_eval is used to convert a \"string of list\" to list \n",
    "        l.append(i[\"name\"])\n",
    "    return l"
   ]
  },
  {
   "cell_type": "code",
   "execution_count": 10,
   "metadata": {},
   "outputs": [],
   "source": [
    "movies[\"genres\"] = movies[\"genres\"].apply(convert)"
   ]
  },
  {
   "cell_type": "code",
   "execution_count": 11,
   "metadata": {},
   "outputs": [],
   "source": [
    "movies[\"keywords\"] = movies[\"keywords\"].apply(convert)"
   ]
  },
  {
   "cell_type": "code",
   "execution_count": 12,
   "metadata": {},
   "outputs": [
    {
     "data": {
      "text/html": [
       "<div>\n",
       "<style scoped>\n",
       "    .dataframe tbody tr th:only-of-type {\n",
       "        vertical-align: middle;\n",
       "    }\n",
       "\n",
       "    .dataframe tbody tr th {\n",
       "        vertical-align: top;\n",
       "    }\n",
       "\n",
       "    .dataframe thead th {\n",
       "        text-align: right;\n",
       "    }\n",
       "</style>\n",
       "<table border=\"1\" class=\"dataframe\">\n",
       "  <thead>\n",
       "    <tr style=\"text-align: right;\">\n",
       "      <th></th>\n",
       "      <th>id</th>\n",
       "      <th>title</th>\n",
       "      <th>overview</th>\n",
       "      <th>genres</th>\n",
       "      <th>keywords</th>\n",
       "      <th>cast</th>\n",
       "      <th>crew</th>\n",
       "    </tr>\n",
       "  </thead>\n",
       "  <tbody>\n",
       "    <tr>\n",
       "      <th>0</th>\n",
       "      <td>19995</td>\n",
       "      <td>Avatar</td>\n",
       "      <td>In the 22nd century, a paraplegic Marine is di...</td>\n",
       "      <td>[Action, Adventure, Fantasy, Science Fiction]</td>\n",
       "      <td>[culture clash, future, space war, space colon...</td>\n",
       "      <td>[{\"cast_id\": 242, \"character\": \"Jake Sully\", \"...</td>\n",
       "      <td>[{\"credit_id\": \"52fe48009251416c750aca23\", \"de...</td>\n",
       "    </tr>\n",
       "    <tr>\n",
       "      <th>1</th>\n",
       "      <td>285</td>\n",
       "      <td>Pirates of the Caribbean: At World's End</td>\n",
       "      <td>Captain Barbossa, long believed to be dead, ha...</td>\n",
       "      <td>[Adventure, Fantasy, Action]</td>\n",
       "      <td>[ocean, drug abuse, exotic island, east india ...</td>\n",
       "      <td>[{\"cast_id\": 4, \"character\": \"Captain Jack Spa...</td>\n",
       "      <td>[{\"credit_id\": \"52fe4232c3a36847f800b579\", \"de...</td>\n",
       "    </tr>\n",
       "    <tr>\n",
       "      <th>2</th>\n",
       "      <td>206647</td>\n",
       "      <td>Spectre</td>\n",
       "      <td>A cryptic message from Bond’s past sends him o...</td>\n",
       "      <td>[Action, Adventure, Crime]</td>\n",
       "      <td>[spy, based on novel, secret agent, sequel, mi...</td>\n",
       "      <td>[{\"cast_id\": 1, \"character\": \"James Bond\", \"cr...</td>\n",
       "      <td>[{\"credit_id\": \"54805967c3a36829b5002c41\", \"de...</td>\n",
       "    </tr>\n",
       "    <tr>\n",
       "      <th>3</th>\n",
       "      <td>49026</td>\n",
       "      <td>The Dark Knight Rises</td>\n",
       "      <td>Following the death of District Attorney Harve...</td>\n",
       "      <td>[Action, Crime, Drama, Thriller]</td>\n",
       "      <td>[dc comics, crime fighter, terrorist, secret i...</td>\n",
       "      <td>[{\"cast_id\": 2, \"character\": \"Bruce Wayne / Ba...</td>\n",
       "      <td>[{\"credit_id\": \"52fe4781c3a36847f81398c3\", \"de...</td>\n",
       "    </tr>\n",
       "    <tr>\n",
       "      <th>4</th>\n",
       "      <td>49529</td>\n",
       "      <td>John Carter</td>\n",
       "      <td>John Carter is a war-weary, former military ca...</td>\n",
       "      <td>[Action, Adventure, Science Fiction]</td>\n",
       "      <td>[based on novel, mars, medallion, space travel...</td>\n",
       "      <td>[{\"cast_id\": 5, \"character\": \"John Carter\", \"c...</td>\n",
       "      <td>[{\"credit_id\": \"52fe479ac3a36847f813eaa3\", \"de...</td>\n",
       "    </tr>\n",
       "  </tbody>\n",
       "</table>\n",
       "</div>"
      ],
      "text/plain": [
       "       id                                     title  \\\n",
       "0   19995                                    Avatar   \n",
       "1     285  Pirates of the Caribbean: At World's End   \n",
       "2  206647                                   Spectre   \n",
       "3   49026                     The Dark Knight Rises   \n",
       "4   49529                               John Carter   \n",
       "\n",
       "                                            overview  \\\n",
       "0  In the 22nd century, a paraplegic Marine is di...   \n",
       "1  Captain Barbossa, long believed to be dead, ha...   \n",
       "2  A cryptic message from Bond’s past sends him o...   \n",
       "3  Following the death of District Attorney Harve...   \n",
       "4  John Carter is a war-weary, former military ca...   \n",
       "\n",
       "                                          genres  \\\n",
       "0  [Action, Adventure, Fantasy, Science Fiction]   \n",
       "1                   [Adventure, Fantasy, Action]   \n",
       "2                     [Action, Adventure, Crime]   \n",
       "3               [Action, Crime, Drama, Thriller]   \n",
       "4           [Action, Adventure, Science Fiction]   \n",
       "\n",
       "                                            keywords  \\\n",
       "0  [culture clash, future, space war, space colon...   \n",
       "1  [ocean, drug abuse, exotic island, east india ...   \n",
       "2  [spy, based on novel, secret agent, sequel, mi...   \n",
       "3  [dc comics, crime fighter, terrorist, secret i...   \n",
       "4  [based on novel, mars, medallion, space travel...   \n",
       "\n",
       "                                                cast  \\\n",
       "0  [{\"cast_id\": 242, \"character\": \"Jake Sully\", \"...   \n",
       "1  [{\"cast_id\": 4, \"character\": \"Captain Jack Spa...   \n",
       "2  [{\"cast_id\": 1, \"character\": \"James Bond\", \"cr...   \n",
       "3  [{\"cast_id\": 2, \"character\": \"Bruce Wayne / Ba...   \n",
       "4  [{\"cast_id\": 5, \"character\": \"John Carter\", \"c...   \n",
       "\n",
       "                                                crew  \n",
       "0  [{\"credit_id\": \"52fe48009251416c750aca23\", \"de...  \n",
       "1  [{\"credit_id\": \"52fe4232c3a36847f800b579\", \"de...  \n",
       "2  [{\"credit_id\": \"54805967c3a36829b5002c41\", \"de...  \n",
       "3  [{\"credit_id\": \"52fe4781c3a36847f81398c3\", \"de...  \n",
       "4  [{\"credit_id\": \"52fe479ac3a36847f813eaa3\", \"de...  "
      ]
     },
     "execution_count": 12,
     "metadata": {},
     "output_type": "execute_result"
    }
   ],
   "source": [
    "movies.head()"
   ]
  },
  {
   "cell_type": "code",
   "execution_count": 13,
   "metadata": {},
   "outputs": [],
   "source": [
    "#extracting only the top 3 people from cast\n",
    "def convert2(obj):\n",
    "    l =[]\n",
    "    counter = 0\n",
    "    for i in ast.literal_eval(obj): #ast.literal_eval is used to convert a \"string of list\" to list \n",
    "        if counter !=3:\n",
    "            l.append(i[\"name\"])\n",
    "            counter += 1\n",
    "        else:\n",
    "            break\n",
    "    return l"
   ]
  },
  {
   "cell_type": "code",
   "execution_count": 14,
   "metadata": {},
   "outputs": [],
   "source": [
    "movies[\"cast\"] = movies[\"cast\"].apply(convert2)"
   ]
  },
  {
   "cell_type": "code",
   "execution_count": 15,
   "metadata": {},
   "outputs": [],
   "source": [
    "#extracting only the director's name from crew column\n",
    "def fetch_director(obj):\n",
    "    l =[]\n",
    "    for i in ast.literal_eval(obj): #ast.literal_eval is used to convert a \"string of list\" to list \n",
    "        if i[\"job\"] == \"Director\":\n",
    "            l.append(i[\"name\"])\n",
    "            break\n",
    "    return l"
   ]
  },
  {
   "cell_type": "code",
   "execution_count": 16,
   "metadata": {},
   "outputs": [],
   "source": [
    "movies[\"crew\"] = movies[\"crew\"].apply(fetch_director)"
   ]
  },
  {
   "cell_type": "code",
   "execution_count": 17,
   "metadata": {},
   "outputs": [],
   "source": [
    "#converting the overviews columns from string to list to concatenated with other columns and create tags\n",
    "movies[\"overview\"] = movies[\"overview\"].apply(lambda x: x.split())"
   ]
  },
  {
   "cell_type": "code",
   "execution_count": 18,
   "metadata": {},
   "outputs": [],
   "source": [
    "#removing all whitespaces\n",
    "movies[\"genres\"] = movies[\"genres\"].apply(lambda x:[i.replace(\" \", \"\") for i in x])\n",
    "movies[\"keywords\"] = movies[\"keywords\"].apply(lambda x:[i.replace(\" \", \"\") for i in x])\n",
    "movies[\"cast\"] = movies[\"cast\"].apply(lambda x:[i.replace(\" \", \"\") for i in x])\n",
    "movies[\"crew\"] = movies[\"crew\"].apply(lambda x:[i.replace(\" \", \"\") for i in x])"
   ]
  },
  {
   "cell_type": "code",
   "execution_count": 19,
   "metadata": {},
   "outputs": [],
   "source": [
    "#creating tag column which will be concatenation of overview, genres, keywords, cast and crew\n",
    "movies[\"tag\"] = movies[\"overview\"] + movies[\"keywords\"] + movies[\"cast\"] + movies[\"crew\"]"
   ]
  },
  {
   "cell_type": "code",
   "execution_count": 20,
   "metadata": {},
   "outputs": [
    {
     "data": {
      "text/html": [
       "<div>\n",
       "<style scoped>\n",
       "    .dataframe tbody tr th:only-of-type {\n",
       "        vertical-align: middle;\n",
       "    }\n",
       "\n",
       "    .dataframe tbody tr th {\n",
       "        vertical-align: top;\n",
       "    }\n",
       "\n",
       "    .dataframe thead th {\n",
       "        text-align: right;\n",
       "    }\n",
       "</style>\n",
       "<table border=\"1\" class=\"dataframe\">\n",
       "  <thead>\n",
       "    <tr style=\"text-align: right;\">\n",
       "      <th></th>\n",
       "      <th>id</th>\n",
       "      <th>title</th>\n",
       "      <th>overview</th>\n",
       "      <th>genres</th>\n",
       "      <th>keywords</th>\n",
       "      <th>cast</th>\n",
       "      <th>crew</th>\n",
       "      <th>tag</th>\n",
       "    </tr>\n",
       "  </thead>\n",
       "  <tbody>\n",
       "    <tr>\n",
       "      <th>0</th>\n",
       "      <td>19995</td>\n",
       "      <td>Avatar</td>\n",
       "      <td>[In, the, 22nd, century,, a, paraplegic, Marin...</td>\n",
       "      <td>[Action, Adventure, Fantasy, ScienceFiction]</td>\n",
       "      <td>[cultureclash, future, spacewar, spacecolony, ...</td>\n",
       "      <td>[SamWorthington, ZoeSaldana, SigourneyWeaver]</td>\n",
       "      <td>[JamesCameron]</td>\n",
       "      <td>[In, the, 22nd, century,, a, paraplegic, Marin...</td>\n",
       "    </tr>\n",
       "    <tr>\n",
       "      <th>1</th>\n",
       "      <td>285</td>\n",
       "      <td>Pirates of the Caribbean: At World's End</td>\n",
       "      <td>[Captain, Barbossa,, long, believed, to, be, d...</td>\n",
       "      <td>[Adventure, Fantasy, Action]</td>\n",
       "      <td>[ocean, drugabuse, exoticisland, eastindiatrad...</td>\n",
       "      <td>[JohnnyDepp, OrlandoBloom, KeiraKnightley]</td>\n",
       "      <td>[GoreVerbinski]</td>\n",
       "      <td>[Captain, Barbossa,, long, believed, to, be, d...</td>\n",
       "    </tr>\n",
       "    <tr>\n",
       "      <th>2</th>\n",
       "      <td>206647</td>\n",
       "      <td>Spectre</td>\n",
       "      <td>[A, cryptic, message, from, Bond’s, past, send...</td>\n",
       "      <td>[Action, Adventure, Crime]</td>\n",
       "      <td>[spy, basedonnovel, secretagent, sequel, mi6, ...</td>\n",
       "      <td>[DanielCraig, ChristophWaltz, LéaSeydoux]</td>\n",
       "      <td>[SamMendes]</td>\n",
       "      <td>[A, cryptic, message, from, Bond’s, past, send...</td>\n",
       "    </tr>\n",
       "    <tr>\n",
       "      <th>3</th>\n",
       "      <td>49026</td>\n",
       "      <td>The Dark Knight Rises</td>\n",
       "      <td>[Following, the, death, of, District, Attorney...</td>\n",
       "      <td>[Action, Crime, Drama, Thriller]</td>\n",
       "      <td>[dccomics, crimefighter, terrorist, secretiden...</td>\n",
       "      <td>[ChristianBale, MichaelCaine, GaryOldman]</td>\n",
       "      <td>[ChristopherNolan]</td>\n",
       "      <td>[Following, the, death, of, District, Attorney...</td>\n",
       "    </tr>\n",
       "    <tr>\n",
       "      <th>4</th>\n",
       "      <td>49529</td>\n",
       "      <td>John Carter</td>\n",
       "      <td>[John, Carter, is, a, war-weary,, former, mili...</td>\n",
       "      <td>[Action, Adventure, ScienceFiction]</td>\n",
       "      <td>[basedonnovel, mars, medallion, spacetravel, p...</td>\n",
       "      <td>[TaylorKitsch, LynnCollins, SamanthaMorton]</td>\n",
       "      <td>[AndrewStanton]</td>\n",
       "      <td>[John, Carter, is, a, war-weary,, former, mili...</td>\n",
       "    </tr>\n",
       "  </tbody>\n",
       "</table>\n",
       "</div>"
      ],
      "text/plain": [
       "       id                                     title  \\\n",
       "0   19995                                    Avatar   \n",
       "1     285  Pirates of the Caribbean: At World's End   \n",
       "2  206647                                   Spectre   \n",
       "3   49026                     The Dark Knight Rises   \n",
       "4   49529                               John Carter   \n",
       "\n",
       "                                            overview  \\\n",
       "0  [In, the, 22nd, century,, a, paraplegic, Marin...   \n",
       "1  [Captain, Barbossa,, long, believed, to, be, d...   \n",
       "2  [A, cryptic, message, from, Bond’s, past, send...   \n",
       "3  [Following, the, death, of, District, Attorney...   \n",
       "4  [John, Carter, is, a, war-weary,, former, mili...   \n",
       "\n",
       "                                         genres  \\\n",
       "0  [Action, Adventure, Fantasy, ScienceFiction]   \n",
       "1                  [Adventure, Fantasy, Action]   \n",
       "2                    [Action, Adventure, Crime]   \n",
       "3              [Action, Crime, Drama, Thriller]   \n",
       "4           [Action, Adventure, ScienceFiction]   \n",
       "\n",
       "                                            keywords  \\\n",
       "0  [cultureclash, future, spacewar, spacecolony, ...   \n",
       "1  [ocean, drugabuse, exoticisland, eastindiatrad...   \n",
       "2  [spy, basedonnovel, secretagent, sequel, mi6, ...   \n",
       "3  [dccomics, crimefighter, terrorist, secretiden...   \n",
       "4  [basedonnovel, mars, medallion, spacetravel, p...   \n",
       "\n",
       "                                            cast                crew  \\\n",
       "0  [SamWorthington, ZoeSaldana, SigourneyWeaver]      [JamesCameron]   \n",
       "1     [JohnnyDepp, OrlandoBloom, KeiraKnightley]     [GoreVerbinski]   \n",
       "2      [DanielCraig, ChristophWaltz, LéaSeydoux]         [SamMendes]   \n",
       "3      [ChristianBale, MichaelCaine, GaryOldman]  [ChristopherNolan]   \n",
       "4    [TaylorKitsch, LynnCollins, SamanthaMorton]     [AndrewStanton]   \n",
       "\n",
       "                                                 tag  \n",
       "0  [In, the, 22nd, century,, a, paraplegic, Marin...  \n",
       "1  [Captain, Barbossa,, long, believed, to, be, d...  \n",
       "2  [A, cryptic, message, from, Bond’s, past, send...  \n",
       "3  [Following, the, death, of, District, Attorney...  \n",
       "4  [John, Carter, is, a, war-weary,, former, mili...  "
      ]
     },
     "execution_count": 20,
     "metadata": {},
     "output_type": "execute_result"
    }
   ],
   "source": [
    "movies.head()"
   ]
  },
  {
   "cell_type": "code",
   "execution_count": 21,
   "metadata": {},
   "outputs": [],
   "source": [
    "new_df = movies[[\"id\", \"title\", \"tag\"]]"
   ]
  },
  {
   "cell_type": "code",
   "execution_count": 22,
   "metadata": {},
   "outputs": [
    {
     "name": "stderr",
     "output_type": "stream",
     "text": [
      "C:\\Users\\DELL\\AppData\\Local\\Temp\\ipykernel_11940\\3411579415.py:2: SettingWithCopyWarning: \n",
      "A value is trying to be set on a copy of a slice from a DataFrame.\n",
      "Try using .loc[row_indexer,col_indexer] = value instead\n",
      "\n",
      "See the caveats in the documentation: https://pandas.pydata.org/pandas-docs/stable/user_guide/indexing.html#returning-a-view-versus-a-copy\n",
      "  new_df[\"tag\"] = new_df[\"tag\"].apply(lambda x: \" \".join(x))\n"
     ]
    }
   ],
   "source": [
    "#converting the tag from list to string\n",
    "new_df[\"tag\"] = new_df[\"tag\"].apply(lambda x: \" \".join(x))"
   ]
  },
  {
   "cell_type": "code",
   "execution_count": 23,
   "metadata": {},
   "outputs": [
    {
     "data": {
      "text/plain": [
       "'In the 22nd century, a paraplegic Marine is dispatched to the moon Pandora on a unique mission, but becomes torn between following orders and protecting an alien civilization. cultureclash future spacewar spacecolony society spacetravel futuristic romance space alien tribe alienplanet cgi marine soldier battle loveaffair antiwar powerrelations mindandsoul 3d SamWorthington ZoeSaldana SigourneyWeaver JamesCameron'"
      ]
     },
     "execution_count": 23,
     "metadata": {},
     "output_type": "execute_result"
    }
   ],
   "source": [
    "new_df[\"tag\"][0]"
   ]
  },
  {
   "cell_type": "code",
   "execution_count": 24,
   "metadata": {},
   "outputs": [
    {
     "name": "stderr",
     "output_type": "stream",
     "text": [
      "C:\\Users\\DELL\\AppData\\Local\\Temp\\ipykernel_11940\\2451791945.py:1: SettingWithCopyWarning: \n",
      "A value is trying to be set on a copy of a slice from a DataFrame.\n",
      "Try using .loc[row_indexer,col_indexer] = value instead\n",
      "\n",
      "See the caveats in the documentation: https://pandas.pydata.org/pandas-docs/stable/user_guide/indexing.html#returning-a-view-versus-a-copy\n",
      "  new_df[\"tag\"] = new_df[\"tag\"].apply(lambda x: x.lower())\n"
     ]
    }
   ],
   "source": [
    "new_df[\"tag\"] = new_df[\"tag\"].apply(lambda x: x.lower())"
   ]
  },
  {
   "cell_type": "code",
   "execution_count": 25,
   "metadata": {},
   "outputs": [
    {
     "data": {
      "text/html": [
       "<div>\n",
       "<style scoped>\n",
       "    .dataframe tbody tr th:only-of-type {\n",
       "        vertical-align: middle;\n",
       "    }\n",
       "\n",
       "    .dataframe tbody tr th {\n",
       "        vertical-align: top;\n",
       "    }\n",
       "\n",
       "    .dataframe thead th {\n",
       "        text-align: right;\n",
       "    }\n",
       "</style>\n",
       "<table border=\"1\" class=\"dataframe\">\n",
       "  <thead>\n",
       "    <tr style=\"text-align: right;\">\n",
       "      <th></th>\n",
       "      <th>id</th>\n",
       "      <th>title</th>\n",
       "      <th>tag</th>\n",
       "    </tr>\n",
       "  </thead>\n",
       "  <tbody>\n",
       "    <tr>\n",
       "      <th>0</th>\n",
       "      <td>19995</td>\n",
       "      <td>Avatar</td>\n",
       "      <td>in the 22nd century, a paraplegic marine is di...</td>\n",
       "    </tr>\n",
       "    <tr>\n",
       "      <th>1</th>\n",
       "      <td>285</td>\n",
       "      <td>Pirates of the Caribbean: At World's End</td>\n",
       "      <td>captain barbossa, long believed to be dead, ha...</td>\n",
       "    </tr>\n",
       "    <tr>\n",
       "      <th>2</th>\n",
       "      <td>206647</td>\n",
       "      <td>Spectre</td>\n",
       "      <td>a cryptic message from bond’s past sends him o...</td>\n",
       "    </tr>\n",
       "    <tr>\n",
       "      <th>3</th>\n",
       "      <td>49026</td>\n",
       "      <td>The Dark Knight Rises</td>\n",
       "      <td>following the death of district attorney harve...</td>\n",
       "    </tr>\n",
       "    <tr>\n",
       "      <th>4</th>\n",
       "      <td>49529</td>\n",
       "      <td>John Carter</td>\n",
       "      <td>john carter is a war-weary, former military ca...</td>\n",
       "    </tr>\n",
       "  </tbody>\n",
       "</table>\n",
       "</div>"
      ],
      "text/plain": [
       "       id                                     title  \\\n",
       "0   19995                                    Avatar   \n",
       "1     285  Pirates of the Caribbean: At World's End   \n",
       "2  206647                                   Spectre   \n",
       "3   49026                     The Dark Knight Rises   \n",
       "4   49529                               John Carter   \n",
       "\n",
       "                                                 tag  \n",
       "0  in the 22nd century, a paraplegic marine is di...  \n",
       "1  captain barbossa, long believed to be dead, ha...  \n",
       "2  a cryptic message from bond’s past sends him o...  \n",
       "3  following the death of district attorney harve...  \n",
       "4  john carter is a war-weary, former military ca...  "
      ]
     },
     "execution_count": 25,
     "metadata": {},
     "output_type": "execute_result"
    }
   ],
   "source": [
    "new_df.head()"
   ]
  },
  {
   "cell_type": "markdown",
   "metadata": {},
   "source": [
    "Text Vectorization --> converting tags to vectors to find the similarity score between different tags\n",
    "technique: Bag of Words --> combining all the tags and then finding the most common words and calculating the frequency of each words and extracting it and finding those words within the tag of each individual movie"
   ]
  },
  {
   "cell_type": "code",
   "execution_count": 26,
   "metadata": {},
   "outputs": [],
   "source": [
    "from sklearn.feature_extraction.text import CountVectorizer\n",
    "cv = CountVectorizer(max_features= 500, stop_words=\"english\") #removing stopwords"
   ]
  },
  {
   "cell_type": "code",
   "execution_count": 27,
   "metadata": {},
   "outputs": [],
   "source": [
    "vectors = cv.fit_transform(new_df[\"tag\"]).toarray() #countvectorizer return scipy sparse matrix so converting to array"
   ]
  },
  {
   "cell_type": "code",
   "execution_count": 28,
   "metadata": {},
   "outputs": [
    {
     "data": {
      "text/plain": [
       "array([[0, 1, 0, ..., 0, 0, 0],\n",
       "       [0, 0, 0, ..., 0, 0, 0],\n",
       "       [0, 0, 0, ..., 0, 0, 0],\n",
       "       ...,\n",
       "       [0, 0, 0, ..., 0, 0, 0],\n",
       "       [0, 0, 0, ..., 1, 0, 0],\n",
       "       [0, 0, 0, ..., 0, 0, 0]], dtype=int64)"
      ]
     },
     "execution_count": 28,
     "metadata": {},
     "output_type": "execute_result"
    }
   ],
   "source": [
    "vectors"
   ]
  },
  {
   "cell_type": "code",
   "execution_count": 29,
   "metadata": {},
   "outputs": [
    {
     "data": {
      "text/plain": [
       "array(['1970s', '3d', 'accident', 'action', 'adventure', 'affair',\n",
       "       'aftercreditsstinger', 'age', 'agent', 'airplane', 'alien',\n",
       "       'alive', 'america', 'american', 'ancient', 'angeles', 'army',\n",
       "       'arrives', 'art', 'artist', 'assassin', 'attack', 'attempt',\n",
       "       'attempts', 'away', 'baby', 'bad', 'band', 'bank', 'bar', 'based',\n",
       "       'basedoncomicbook', 'basedonnovel', 'battle', 'beach', 'beautiful',\n",
       "       'begin', 'begins', 'best', 'big', 'biography', 'black', 'blood',\n",
       "       'body', 'bond', 'book', 'boss', 'boy', 'boyfriend', 'break',\n",
       "       'bring', 'brings', 'british', 'brother', 'brothers', 'business',\n",
       "       'california', 'called', 'captain', 'car', 'career', 'case',\n",
       "       'caught', 'century', 'chance', 'change', 'characters', 'charlie',\n",
       "       'chase', 'chicago', 'child', 'childhood', 'children', 'christmas',\n",
       "       'cia', 'city', 'class', 'close', 'coach', 'college', 'come',\n",
       "       'comedy', 'comes', 'coming', 'community', 'company', 'competition',\n",
       "       'computer', 'conspiracy', 'control', 'cop', 'corruption',\n",
       "       'country', 'couple', 'crash', 'crew', 'crime', 'criminal', 'dance',\n",
       "       'dangerous', 'dark', 'daughter', 'david', 'day', 'days', 'dead',\n",
       "       'deadly', 'deal', 'death', 'decide', 'decides', 'desert',\n",
       "       'desperate', 'despite', 'destroy', 'detective', 'determined',\n",
       "       'different', 'director', 'discover', 'discovers', 'divorce',\n",
       "       'doctor', 'documentary', 'does', 'doesn', 'dog', 'don', 'dr',\n",
       "       'drama', 'dream', 'dreams', 'drug', 'duringcreditsstinger',\n",
       "       'dyinganddeath', 'dystopia', 'earth', 'end', 'ends', 'england',\n",
       "       'entire', 'epic', 'escape', 'events', 'evil', 'ex', 'face',\n",
       "       'faith', 'fall', 'falls', 'family', 'far', 'fate', 'father',\n",
       "       'fathersonrelationship', 'fbi', 'female', 'fight', 'film', 'final',\n",
       "       'finally', 'finds', 'follows', 'force', 'forced', 'forces',\n",
       "       'forest', 'forever', 'form', 'france', 'frank', 'free', 'french',\n",
       "       'friend', 'friends', 'friendship', 'future', 'game', 'gang',\n",
       "       'gangster', 'gay', 'general', 'george', 'gets', 'getting', 'ghost',\n",
       "       'girl', 'girlfriend', 'girls', 'god', 'goes', 'going', 'good',\n",
       "       'government', 'great', 'group', 'gun', 'guy', 'hands', 'hard',\n",
       "       'having', 'head', 'heart', 'heist', 'help', 'hero', 'high',\n",
       "       'highschool', 'history', 'hit', 'holiday', 'hollywood', 'home',\n",
       "       'hope', 'horror', 'hospital', 'hostage', 'hotel', 'house', 'human',\n",
       "       'hunter', 'husband', 'identity', 'ii', 'including',\n",
       "       'independentfilm', 'inside', 'investigation', 'involved', 'island',\n",
       "       'jack', 'jackson', 'james', 'jean', 'job', 'john', 'join', 'joins',\n",
       "       'journalist', 'journey', 'just', 'kidnapping', 'kids', 'kill',\n",
       "       'killed', 'killer', 'killing', 'king', 'know', 'known', 'land',\n",
       "       'late', 'later', 'law', 'lawyer', 'lead', 'leader', 'leads',\n",
       "       'learn', 'learns', 'leave', 'led', 'left', 'legendary', 'life',\n",
       "       'like', 'little', 'live', 'lives', 'living', 'local', 'london',\n",
       "       'londonengland', 'long', 'look', 'looking', 'los', 'losangeles',\n",
       "       'lost', 'love', 'lover', 'mafia', 'magic', 'make', 'makes',\n",
       "       'making', 'man', 'marriage', 'married', 'meet', 'meets', 'men',\n",
       "       'mexico', 'michael', 'middle', 'military', 'missing', 'mission',\n",
       "       'money', 'monster', 'mother', 'moves', 'movie', 'murder',\n",
       "       'murdered', 'music', 'musical', 'mysterious', 'named', 'neighbor',\n",
       "       'new', 'newyork', 'nick', 'night', 'nightmare', 'nudity',\n",
       "       'obsession', 'officer', 'old', 'order', 'owner', 'pair', 'parents',\n",
       "       'paris', 'partner', 'party', 'past', 'people', 'perfect',\n",
       "       'personal', 'peter', 'place', 'plan', 'planet', 'plans', 'play',\n",
       "       'plot', 'police', 'popular', 'post', 'power', 'powerful', 'powers',\n",
       "       'president', 'prince', 'princess', 'prison', 'professor',\n",
       "       'prostitute', 'protect', 'queen', 'quest', 'quickly', 'race',\n",
       "       'rape', 'real', 'reality', 'realizes', 'really', 'relationship',\n",
       "       'remake', 'reporter', 'rescue', 'return', 'returns', 'revenge',\n",
       "       'right', 'road', 'robbery', 'robot', 'rock', 'romance', 'romantic',\n",
       "       'run', 'russian', 'ruthless', 'sam', 'save', 'school', 'scientist',\n",
       "       'sea', 'search', 'second', 'secret', 'secrets', 'security',\n",
       "       'seemingly', 'self', 'sent', 'sequel', 'serialkiller', 'series',\n",
       "       'set', 'sets', 'sex', 'sheriff', 'ship', 'singer', 'single',\n",
       "       'sister', 'small', 'society', 'soldier', 'son', 'soon', 'south',\n",
       "       'space', 'spirit', 'sport', 'spy', 'star', 'stars', 'start',\n",
       "       'starts', 'state', 'states', 'stay', 'stop', 'story', 'strange',\n",
       "       'street', 'struggle', 'struggles', 'student', 'students',\n",
       "       'success', 'successful', 'suddenly', 'suicide', 'summer',\n",
       "       'superhero', 'supernatural', 'survival', 'survive', 'suspense',\n",
       "       'taken', 'takes', 'taking', 'tale', 'teacher', 'team', 'teenage',\n",
       "       'teenager', 'tells', 'terror', 'terrorist', 'texas', 'things',\n",
       "       'time', 'tom', 'town', 'train', 'trapped', 'travel', 'tries',\n",
       "       'trip', 'trouble', 'true', 'truth', 'try', 'trying', 'turn',\n",
       "       'turned', 'turns', 'tv', 'uncle', 'undercover', 'unexpected',\n",
       "       'united', 'unlikely', 'use', 'vampire', 'video', 'village',\n",
       "       'violence', 'want', 'wants', 'war', 'way', 'wealthy', 'wedding',\n",
       "       'west', 'white', 'wife', 'win', 'witch', 'woman', 'womandirector',\n",
       "       'women', 'work', 'working', 'works', 'world', 'worldwarii',\n",
       "       'writer', 'year', 'years', 'york', 'young', 'zombie'], dtype=object)"
      ]
     },
     "execution_count": 29,
     "metadata": {},
     "output_type": "execute_result"
    }
   ],
   "source": [
    "cv.get_feature_names_out() #most used words"
   ]
  },
  {
   "cell_type": "code",
   "execution_count": 30,
   "metadata": {},
   "outputs": [],
   "source": [
    "#using stemming to bring similar words to its root words and avoid similar words being repeated like (action and actions)\n",
    "from nltk.stem.porter import PorterStemmer\n",
    "ps = PorterStemmer()\n"
   ]
  },
  {
   "cell_type": "code",
   "execution_count": 31,
   "metadata": {},
   "outputs": [],
   "source": [
    "def stem(txt):\n",
    "    y =[]\n",
    "    \n",
    "    for i in txt.split(): #string to list\n",
    "        y.append(ps.stem(i))\n",
    "    return \" \".join(y) #list to string"
   ]
  },
  {
   "cell_type": "code",
   "execution_count": 32,
   "metadata": {},
   "outputs": [
    {
     "name": "stderr",
     "output_type": "stream",
     "text": [
      "C:\\Users\\DELL\\AppData\\Local\\Temp\\ipykernel_11940\\4120144171.py:1: SettingWithCopyWarning: \n",
      "A value is trying to be set on a copy of a slice from a DataFrame.\n",
      "Try using .loc[row_indexer,col_indexer] = value instead\n",
      "\n",
      "See the caveats in the documentation: https://pandas.pydata.org/pandas-docs/stable/user_guide/indexing.html#returning-a-view-versus-a-copy\n",
      "  new_df[\"tag\"] = new_df[\"tag\"].apply(stem)\n"
     ]
    }
   ],
   "source": [
    "new_df[\"tag\"] = new_df[\"tag\"].apply(stem)"
   ]
  },
  {
   "cell_type": "code",
   "execution_count": 33,
   "metadata": {},
   "outputs": [],
   "source": [
    "vectors = cv.fit_transform(new_df[\"tag\"]).toarray() #countvectorizer return scipy sparse matrix so converting to array"
   ]
  },
  {
   "cell_type": "code",
   "execution_count": 34,
   "metadata": {},
   "outputs": [
    {
     "data": {
      "text/plain": [
       "array(['3d', 'accident', 'act', 'action', 'adventur', 'affair',\n",
       "       'aftercreditssting', 'age', 'agent', 'alcohol', 'alien', 'alway',\n",
       "       'america', 'american', 'angel', 'ani', 'anim', 'anoth', 'apart',\n",
       "       'armi', 'arriv', 'art', 'artist', 'assassin', 'assign', 'attack',\n",
       "       'attempt', 'author', 'away', 'babi', 'bad', 'band', 'bank', 'bar',\n",
       "       'base', 'basedonnovel', 'battl', 'beauti', 'becom', 'befor',\n",
       "       'begin', 'believ', 'best', 'big', 'biographi', 'black', 'blood',\n",
       "       'bond', 'book', 'boss', 'boy', 'boyfriend', 'break', 'bring',\n",
       "       'british', 'brother', 'brutal', 'busi', 'california', 'captain',\n",
       "       'captur', 'car', 'career', 'case', 'caught', 'caus', 'celebr',\n",
       "       'center', 'chanc', 'chang', 'charact', 'chase', 'chicago', 'child',\n",
       "       'childhood', 'children', 'christian', 'christma', 'cia', 'citi',\n",
       "       'city', 'class', 'close', 'coach', 'colleg', 'come', 'comedi',\n",
       "       'commun', 'compani', 'competit', 'confront', 'conspiraci',\n",
       "       'continu', 'control', 'convinc', 'cop', 'corrupt', 'countri',\n",
       "       'coupl', 'crash', 'creat', 'crew', 'crime', 'crimin', 'cross',\n",
       "       'danc', 'danger', 'dark', 'date', 'daughter', 'day', 'dead',\n",
       "       'deadli', 'deal', 'death', 'decid', 'demon', 'desert', 'desper',\n",
       "       'despit', 'destroy', 'detect', 'determin', 'develop', 'die',\n",
       "       'differ', 'director', 'disappear', 'discov', 'divorc', 'doctor',\n",
       "       'doesn', 'dog', 'dr', 'drama', 'dream', 'drug', 'dure',\n",
       "       'duringcreditssting', 'dyinganddeath', 'dystopia', 'earth',\n",
       "       'embark', 'encount', 'end', 'england', 'enter', 'entir', 'epic',\n",
       "       'escap', 'event', 'everi', 'everyon', 'everyth', 'evil', 'ex',\n",
       "       'execut', 'experi', 'explos', 'eye', 'face', 'faith', 'fall',\n",
       "       'famili', 'family', 'far', 'fate', 'father',\n",
       "       'fathersonrelationship', 'fbi', 'fear', 'fight', 'film', 'final',\n",
       "       'follow', 'forc', 'form', 'frank', 'free', 'french', 'friend',\n",
       "       'friends', 'friendship', 'futur', 'game', 'gang', 'gangster',\n",
       "       'gay', 'gener', 'ghost', 'girl', 'girlfriend', 'god', 'goe',\n",
       "       'good', 'govern', 'great', 'group', 'grow', 'gun', 'guy', 'ha',\n",
       "       'hand', 'happen', 'hard', 'head', 'heart', 'heist', 'help', 'hero',\n",
       "       'hi', 'high', 'highschool', 'hire', 'hit', 'hold', 'holiday',\n",
       "       'hollywood', 'home', 'hope', 'horror', 'hospit', 'hotel', 'hous',\n",
       "       'human', 'hunt', 'hunter', 'husband', 'includ', 'independentfilm',\n",
       "       'inspir', 'intern', 'investig', 'involv', 'island', 'jack',\n",
       "       'jackson', 'jame', 'jean', 'job', 'john', 'join', 'journalist',\n",
       "       'journey', 'just', 'kid', 'kidnap', 'kill', 'killer', 'king',\n",
       "       'know', 'known', 'la', 'land', 'late', 'later', 'law', 'lawyer',\n",
       "       'lead', 'leader', 'learn', 'leav', 'led', 'left', 'legendari',\n",
       "       'lie', 'life', 'like', 'littl', 'live', 'lives', 'lo', 'local',\n",
       "       'london', 'londonengland', 'long', 'look', 'losangel', 'lose',\n",
       "       'lost', 'love', 'lover', 'mafia', 'magic', 'make', 'man', 'manag',\n",
       "       'mani', 'marri', 'marriag', 'master', 'mean', 'meet', 'member',\n",
       "       'men', 'michael', 'militari', 'million', 'miss', 'mission',\n",
       "       'money', 'monster', 'mother', 'movi', 'murder', 'music', 'mysteri',\n",
       "       'nation', 'need', 'neighbor', 'new', 'newyork', 'night', 'noth',\n",
       "       'nuditi', 'obsess', 'offic', 'old', 'onc', 'onli', 'open', 'oper',\n",
       "       'order', 'owner', 'pair', 'parent', 'parents', 'pari', 'parti',\n",
       "       'partner', 'past', 'path', 'peopl', 'perfect', 'person', 'place',\n",
       "       'plan', 'planet', 'play', 'plot', 'polic', 'polit', 'popular',\n",
       "       'post', 'power', 'presid', 'princess', 'prison', 'problem',\n",
       "       'professor', 'prostitut', 'protect', 'prove', 'queen', 'quest',\n",
       "       'question', 'race', 'rais', 'real', 'realiz', 'realli',\n",
       "       'relationship', 'remak', 'report', 'rescu', 'retir', 'return',\n",
       "       'reveal', 'reveng', 'right', 'rise', 'road', 'robot', 'rock',\n",
       "       'romanc', 'romant', 'rule', 'run', 'russian', 'save', 'school',\n",
       "       'scientist', 'sea', 'search', 'secret', 'secur', 'seek', 'self',\n",
       "       'send', 'sent', 'sequel', 'seri', 'set', 'sever', 'sex', 'sexual',\n",
       "       'share', 'sheriff', 'ship', 'singer', 'singl', 'sister', 'small',\n",
       "       'soldier', 'someth', 'son', 'soon', 'south', 'space', 'spend',\n",
       "       'spi', 'spirit', 'sport', 'stand', 'star', 'start', 'state',\n",
       "       'stay', 'stop', 'stori', 'strang', 'stranger', 'street', 'struggl',\n",
       "       'student', 'success', 'suddenli', 'suicid', 'summer', 'superhero',\n",
       "       'supernatur', 'surviv', 'suspect', 'suspens', 'taken', 'tale',\n",
       "       'talent', 'target', 'teacher', 'team', 'teen', 'teenag', 'tell',\n",
       "       'terror', 'terrorist', 'test', 'themselv', 'thi', 'thing', 'think',\n",
       "       'threaten', 'time', 'togeth', 'town', 'track', 'train',\n",
       "       'transform', 'trap', 'travel', 'tri', 'trip', 'troubl', 'true',\n",
       "       'truth', 'turn', 'ultim', 'uncov', 'undercov', 'unit', 'unlik',\n",
       "       'use', 'vampir', 'veri', 'victim', 'villag', 'violenc', 'visit',\n",
       "       'wa', 'want', 'war', 'way', 'weapon', 'wed', 'white', 'widow',\n",
       "       'wife', 'win', 'wit', 'witch', 'woman', 'womandirector', 'women',\n",
       "       'work', 'world', 'writer', 'year', 'years', 'york', 'young',\n",
       "       'zombi'], dtype=object)"
      ]
     },
     "execution_count": 34,
     "metadata": {},
     "output_type": "execute_result"
    }
   ],
   "source": [
    "cv.get_feature_names_out() #most used words"
   ]
  },
  {
   "cell_type": "code",
   "execution_count": 35,
   "metadata": {},
   "outputs": [],
   "source": [
    "#calculating the cosine distance between the vectors (greater the angle/distance, lower the similarity)\n",
    "#using cosine distance because in higher dimension, eucledian is not better\n",
    "from sklearn.metrics.pairwise import cosine_similarity\n",
    "similarity = cosine_similarity(vectors)"
   ]
  },
  {
   "cell_type": "code",
   "execution_count": 36,
   "metadata": {},
   "outputs": [
    {
     "data": {
      "text/plain": [
       "array([1.        , 0.        , 0.06454972, ..., 0.0496904 , 0.        ,\n",
       "       0.        ])"
      ]
     },
     "execution_count": 36,
     "metadata": {},
     "output_type": "execute_result"
    }
   ],
   "source": [
    "similarity[0]"
   ]
  },
  {
   "cell_type": "code",
   "execution_count": 37,
   "metadata": {},
   "outputs": [],
   "source": [
    "def recommend(movie):\n",
    "    movie_index = new_df[new_df[\"title\"] == movie].index[0] #fetching the index of the movie\n",
    "    distances = similarity[movie_index] #similarity score\n",
    "    movies_list = sorted(list(enumerate(distances)), reverse = True, key = lambda x: x[1])[1:6] #here we use enumerate becuase we also need to hold the index position so enumerate gives index position and score\n",
    "\n",
    "    for i in movies_list:\n",
    "        print(new_df.iloc[i[0]].title)\n"
   ]
  },
  {
   "cell_type": "code",
   "execution_count": 43,
   "metadata": {},
   "outputs": [
    {
     "name": "stdout",
     "output_type": "stream",
     "text": [
      "Miracle\n",
      "Minions\n",
      "X-Men: Apocalypse\n",
      "Superhero Movie\n",
      "Rise of the Guardians\n"
     ]
    }
   ],
   "source": [
    "recommend(\"The Avengers\")"
   ]
  },
  {
   "cell_type": "markdown",
   "metadata": {},
   "source": [
    "Processing for Frontend"
   ]
  },
  {
   "cell_type": "code",
   "execution_count": 44,
   "metadata": {},
   "outputs": [],
   "source": [
    "import pickle"
   ]
  },
  {
   "cell_type": "code",
   "execution_count": 46,
   "metadata": {},
   "outputs": [],
   "source": [
    "pickle.dump(new_df.to_dict(), open(\"movies_dict.pkl\", \"wb\")) #changing this to dictionary so can be passed on the frontend"
   ]
  },
  {
   "cell_type": "code",
   "execution_count": 47,
   "metadata": {},
   "outputs": [],
   "source": [
    "pickle.dump(similarity, open(\"similarity.pkl\", \"wb\"))"
   ]
  },
  {
   "cell_type": "code",
   "execution_count": null,
   "metadata": {},
   "outputs": [],
   "source": []
  }
 ],
 "metadata": {
  "kernelspec": {
   "display_name": "base",
   "language": "python",
   "name": "python3"
  },
  "language_info": {
   "codemirror_mode": {
    "name": "ipython",
    "version": 3
   },
   "file_extension": ".py",
   "mimetype": "text/x-python",
   "name": "python",
   "nbconvert_exporter": "python",
   "pygments_lexer": "ipython3",
   "version": "3.11.7"
  }
 },
 "nbformat": 4,
 "nbformat_minor": 2
}
